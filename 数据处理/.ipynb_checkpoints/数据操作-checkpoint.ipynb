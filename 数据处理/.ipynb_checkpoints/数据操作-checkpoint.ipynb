{
 "cells": [
  {
   "cell_type": "code",
   "execution_count": 1,
   "id": "095ae8d8",
   "metadata": {
    "ExecuteTime": {
     "end_time": "2022-09-03T14:37:36.319246Z",
     "start_time": "2022-09-03T14:37:30.431167Z"
    }
   },
   "outputs": [],
   "source": [
    "import torch"
   ]
  },
  {
   "cell_type": "code",
   "execution_count": 2,
   "id": "892e4ec9",
   "metadata": {
    "ExecuteTime": {
     "end_time": "2022-09-03T14:37:36.396187Z",
     "start_time": "2022-09-03T14:37:36.320251Z"
    }
   },
   "outputs": [
    {
     "name": "stdout",
     "output_type": "stream",
     "text": [
      "tensor([[9.2755e-39, 8.9082e-39, 9.9184e-39],\n",
      "        [8.4490e-39, 9.6429e-39, 1.0653e-38],\n",
      "        [1.0469e-38, 4.2246e-39, 1.0378e-38],\n",
      "        [9.6429e-39, 9.2755e-39, 9.7346e-39],\n",
      "        [1.0745e-38, 1.0102e-38, 9.9184e-39]])\n"
     ]
    }
   ],
   "source": [
    "# 创建5x3的未初始化的Tensor\n",
    "\n",
    "x = torch.empty(5,3)\n",
    "print(x)"
   ]
  },
  {
   "cell_type": "code",
   "execution_count": 3,
   "id": "c1c7be54",
   "metadata": {
    "ExecuteTime": {
     "end_time": "2022-09-03T14:37:36.412142Z",
     "start_time": "2022-09-03T14:37:36.398182Z"
    }
   },
   "outputs": [
    {
     "name": "stdout",
     "output_type": "stream",
     "text": [
      "tensor([[0.9357, 0.0161, 0.6960, 0.3706],\n",
      "        [0.1016, 0.7886, 0.8624, 0.1613],\n",
      "        [0.5209, 0.0536, 0.8202, 0.2278],\n",
      "        [0.2997, 0.5842, 0.3820, 0.4567],\n",
      "        [0.1295, 0.1930, 0.5585, 0.3147]])\n"
     ]
    }
   ],
   "source": [
    "# 创建一个5x4的随机初始化Tensor\n",
    "\n",
    "x = torch.rand(5, 4)\n",
    "print(x)"
   ]
  },
  {
   "cell_type": "code",
   "execution_count": 4,
   "id": "562f7b45",
   "metadata": {
    "ExecuteTime": {
     "end_time": "2022-09-03T14:37:36.428104Z",
     "start_time": "2022-09-03T14:37:36.415135Z"
    }
   },
   "outputs": [
    {
     "name": "stdout",
     "output_type": "stream",
     "text": [
      "tensor([[0, 0, 0],\n",
      "        [0, 0, 0],\n",
      "        [0, 0, 0],\n",
      "        [0, 0, 0],\n",
      "        [0, 0, 0]])\n"
     ]
    }
   ],
   "source": [
    "# 创建一个5x3的long型全0的Tensor:\n",
    "\n",
    "x = torch.zeros(5, 3, dtype=torch.long)\n",
    "print(x)"
   ]
  },
  {
   "cell_type": "code",
   "execution_count": 5,
   "id": "01173781",
   "metadata": {
    "ExecuteTime": {
     "end_time": "2022-09-03T14:37:36.444059Z",
     "start_time": "2022-09-03T14:37:36.430097Z"
    }
   },
   "outputs": [
    {
     "name": "stdout",
     "output_type": "stream",
     "text": [
      "tensor([5.5000, 3.0000])\n"
     ]
    }
   ],
   "source": [
    "# 直接根据数据创建\n",
    "\n",
    "x = torch.tensor([5.5, 3])\n",
    "print(x)"
   ]
  },
  {
   "cell_type": "code",
   "execution_count": 6,
   "id": "f0f38d3c",
   "metadata": {
    "ExecuteTime": {
     "end_time": "2022-09-03T14:37:36.460016Z",
     "start_time": "2022-09-03T14:37:36.446053Z"
    }
   },
   "outputs": [
    {
     "name": "stdout",
     "output_type": "stream",
     "text": [
      "tensor([[1., 1., 1., 1.],\n",
      "        [1., 1., 1., 1.],\n",
      "        [1., 1., 1., 1.],\n",
      "        [1., 1., 1., 1.],\n",
      "        [1., 1., 1., 1.],\n",
      "        [1., 1., 1., 1.]], dtype=torch.float64)\n",
      "tensor([[-0.3425, -1.1431,  0.3353,  2.7034],\n",
      "        [-1.1974, -0.3106, -1.2338, -1.2121],\n",
      "        [-0.3175, -0.4418, -0.7932, -1.1314],\n",
      "        [-1.8595,  0.2832, -0.1915,  0.2068],\n",
      "        [ 1.3737, -1.1800,  1.0631, -0.8335],\n",
      "        [ 1.0543, -1.3541, -0.0393, -0.3345]])\n"
     ]
    }
   ],
   "source": [
    "x = x.new_ones(6, 4, dtype=torch.float64)  # 返回的tensor默认具有相同的torch.dtype和torch.device\n",
    "print(x)\n",
    "\n",
    "x = torch.randn_like(x, dtype=torch.float) # 指定新的数据类型\n",
    "print(x) "
   ]
  },
  {
   "cell_type": "code",
   "execution_count": 7,
   "id": "02afb245",
   "metadata": {
    "ExecuteTime": {
     "end_time": "2022-09-03T14:37:36.475972Z",
     "start_time": "2022-09-03T14:37:36.462010Z"
    }
   },
   "outputs": [
    {
     "name": "stdout",
     "output_type": "stream",
     "text": [
      "torch.Size([6, 4])\n",
      "torch.Size([6, 4])\n"
     ]
    }
   ],
   "source": [
    "# 获取Tensor形状\n",
    "\n",
    "print(x.size())\n",
    "print(x.shape)"
   ]
  },
  {
   "cell_type": "code",
   "execution_count": 8,
   "id": "03d141a1",
   "metadata": {
    "ExecuteTime": {
     "end_time": "2022-09-03T14:37:36.491930Z",
     "start_time": "2022-09-03T14:37:36.478964Z"
    }
   },
   "outputs": [
    {
     "name": "stdout",
     "output_type": "stream",
     "text": [
      "tensor([[1., 0., 0., 0., 0.],\n",
      "        [0., 1., 0., 0., 0.],\n",
      "        [0., 0., 1., 0., 0.],\n",
      "        [0., 0., 0., 1., 0.],\n",
      "        [0., 0., 0., 0., 1.]])\n"
     ]
    }
   ],
   "source": [
    "# 对角线置1\n",
    "\n",
    "x = torch.eye(5, 5)\n",
    "print(x)"
   ]
  },
  {
   "cell_type": "code",
   "execution_count": 9,
   "id": "c707af30",
   "metadata": {
    "ExecuteTime": {
     "end_time": "2022-09-03T14:37:36.507889Z",
     "start_time": "2022-09-03T14:37:36.493924Z"
    }
   },
   "outputs": [
    {
     "name": "stdout",
     "output_type": "stream",
     "text": [
      "tensor([[1.0472, 0.8622, 0.6481, 0.0962, 0.4142],\n",
      "        [0.6176, 1.1348, 0.3376, 0.7541, 0.6750],\n",
      "        [0.3859, 0.5746, 1.2398, 0.9529, 0.7020],\n",
      "        [0.7360, 0.6247, 0.5380, 1.9285, 0.9977],\n",
      "        [0.0953, 0.0774, 0.4407, 0.6334, 1.9580]])\n"
     ]
    }
   ],
   "source": [
    "# 加法1\n",
    "\n",
    "y = torch.rand(5, 5)\n",
    "print(x + y)"
   ]
  },
  {
   "cell_type": "code",
   "execution_count": 10,
   "id": "3ca4c898",
   "metadata": {
    "ExecuteTime": {
     "end_time": "2022-09-03T14:37:36.523845Z",
     "start_time": "2022-09-03T14:37:36.511877Z"
    }
   },
   "outputs": [
    {
     "name": "stdout",
     "output_type": "stream",
     "text": [
      "tensor([[1.0472, 0.8622, 0.6481, 0.0962, 0.4142],\n",
      "        [0.6176, 1.1348, 0.3376, 0.7541, 0.6750],\n",
      "        [0.3859, 0.5746, 1.2398, 0.9529, 0.7020],\n",
      "        [0.7360, 0.6247, 0.5380, 1.9285, 0.9977],\n",
      "        [0.0953, 0.0774, 0.4407, 0.6334, 1.9580]])\n"
     ]
    }
   ],
   "source": [
    "# 加法2\n",
    "\n",
    "print(torch.add(x, y))"
   ]
  },
  {
   "cell_type": "code",
   "execution_count": 11,
   "id": "37aff9c4",
   "metadata": {
    "ExecuteTime": {
     "end_time": "2022-09-03T14:37:36.555758Z",
     "start_time": "2022-09-03T14:37:36.526837Z"
    }
   },
   "outputs": [
    {
     "name": "stdout",
     "output_type": "stream",
     "text": [
      "tensor([[1.0472, 0.8622, 0.6481, 0.0962, 0.4142],\n",
      "        [0.6176, 1.1348, 0.3376, 0.7541, 0.6750],\n",
      "        [0.3859, 0.5746, 1.2398, 0.9529, 0.7020],\n",
      "        [0.7360, 0.6247, 0.5380, 1.9285, 0.9977],\n",
      "        [0.0953, 0.0774, 0.4407, 0.6334, 1.9580]])\n"
     ]
    }
   ],
   "source": [
    "# 可指定输出\n",
    "\n",
    "result = torch.empty(5, 5)\n",
    "torch.add(x, y, out=result)\n",
    "print(result)"
   ]
  },
  {
   "cell_type": "code",
   "execution_count": 12,
   "id": "e27d51eb",
   "metadata": {
    "ExecuteTime": {
     "end_time": "2022-09-03T14:37:36.570719Z",
     "start_time": "2022-09-03T14:37:36.557755Z"
    }
   },
   "outputs": [
    {
     "name": "stdout",
     "output_type": "stream",
     "text": [
      "tensor([[1.0472, 0.8622, 0.6481, 0.0962, 0.4142],\n",
      "        [0.6176, 1.1348, 0.3376, 0.7541, 0.6750],\n",
      "        [0.3859, 0.5746, 1.2398, 0.9529, 0.7020],\n",
      "        [0.7360, 0.6247, 0.5380, 1.9285, 0.9977],\n",
      "        [0.0953, 0.0774, 0.4407, 0.6334, 1.9580]])\n"
     ]
    }
   ],
   "source": [
    "# 加法3 inplace PyTorch操作inplace版本都有后缀_, 例如x.copy_(y), x.t_()\n",
    "\n",
    "y.add_(x)\n",
    "print(y)"
   ]
  },
  {
   "cell_type": "code",
   "execution_count": 13,
   "id": "89dba234",
   "metadata": {
    "ExecuteTime": {
     "end_time": "2022-09-03T14:37:36.585678Z",
     "start_time": "2022-09-03T14:37:36.573711Z"
    }
   },
   "outputs": [
    {
     "name": "stdout",
     "output_type": "stream",
     "text": [
      "tensor([1., 2., 1., 1., 1.])\n",
      "tensor([1., 2., 1., 1., 1.])\n"
     ]
    }
   ],
   "source": [
    "# 索引 我们还可以使用类似NumPy的索引操作来访问Tensor的一部分，\n",
    "# 需要注意的是：索引出来的结果与原数据共享内存，\n",
    "# 也即修改一个，另一个会跟着修改。\n",
    "\n",
    "y = x[1, :]\n",
    "y += 1\n",
    "print(y)\n",
    "print(x[1, :]) # 源tensor也被改了"
   ]
  },
  {
   "cell_type": "code",
   "execution_count": 14,
   "id": "902742e5",
   "metadata": {
    "ExecuteTime": {
     "end_time": "2022-09-03T14:37:36.601636Z",
     "start_time": "2022-09-03T14:37:36.587674Z"
    }
   },
   "outputs": [
    {
     "name": "stdout",
     "output_type": "stream",
     "text": [
      "tensor([[1., 0., 0., 0., 0.],\n",
      "        [1., 2., 1., 1., 1.],\n",
      "        [0., 0., 1., 0., 0.],\n",
      "        [0., 0., 0., 1., 0.],\n",
      "        [0., 0., 0., 0., 1.]])\n"
     ]
    }
   ],
   "source": [
    "print(x)"
   ]
  },
  {
   "cell_type": "code",
   "execution_count": 15,
   "id": "50df494e",
   "metadata": {
    "ExecuteTime": {
     "end_time": "2022-09-03T14:37:36.617593Z",
     "start_time": "2022-09-03T14:37:36.603631Z"
    }
   },
   "outputs": [
    {
     "name": "stdout",
     "output_type": "stream",
     "text": [
      "torch.Size([5, 5]) torch.Size([25]) torch.Size([1, 25])\n"
     ]
    }
   ],
   "source": [
    "# 改变形状\n",
    "'''注意view()返回的新Tensor与源Tensor虽然可能有不同的size，\n",
    "但是是共享data的，也即更改其中的一个，另外一个也会跟着改变。\n",
    "(顾名思义，view仅仅是改变了对这个张量的观察角度，内部数据并未改变)'''\n",
    "\n",
    "y = x.view(25)\n",
    "z = x.view(-1, 25)  # -1所指的维度可以根据其他维度的值推出来\n",
    "print(x.size(), y.size(), z.size())"
   ]
  },
  {
   "cell_type": "code",
   "execution_count": 16,
   "id": "22cdd40e",
   "metadata": {
    "ExecuteTime": {
     "end_time": "2022-09-03T14:37:36.633550Z",
     "start_time": "2022-09-03T14:37:36.619589Z"
    }
   },
   "outputs": [
    {
     "name": "stdout",
     "output_type": "stream",
     "text": [
      "tensor([[2., 1., 1., 1., 1.],\n",
      "        [2., 3., 2., 2., 2.],\n",
      "        [1., 1., 2., 1., 1.],\n",
      "        [1., 1., 1., 2., 1.],\n",
      "        [1., 1., 1., 1., 2.]])\n",
      "tensor([2., 1., 1., 1., 1., 2., 3., 2., 2., 2., 1., 1., 2., 1., 1., 1., 1., 1.,\n",
      "        2., 1., 1., 1., 1., 1., 2.])\n"
     ]
    }
   ],
   "source": [
    "x += 1\n",
    "print(x)\n",
    "print(y) # 也加了1"
   ]
  },
  {
   "cell_type": "code",
   "execution_count": 17,
   "id": "855f0f5f",
   "metadata": {
    "ExecuteTime": {
     "end_time": "2022-09-03T14:37:36.649508Z",
     "start_time": "2022-09-03T14:37:36.635548Z"
    }
   },
   "outputs": [
    {
     "name": "stdout",
     "output_type": "stream",
     "text": [
      "tensor([[1., 0., 0., 0., 0.],\n",
      "        [1., 2., 1., 1., 1.],\n",
      "        [0., 0., 1., 0., 0.],\n",
      "        [0., 0., 0., 1., 0.],\n",
      "        [0., 0., 0., 0., 1.]])\n",
      "tensor([2., 1., 1., 1., 1., 2., 3., 2., 2., 2., 1., 1., 2., 1., 1., 1., 1., 1.,\n",
      "        2., 1., 1., 1., 1., 1., 2.])\n"
     ]
    }
   ],
   "source": [
    "# 所以如果我们想返回一个真正新的副本（即不共享data内存）该怎么办呢？\n",
    "# Pytorch还提供了一个reshape()可以改变形状，但是此函数并不能保证返回的是其拷贝，所以不推荐使用。\n",
    "# 推荐先用clone创造一个副本然后再使用view\n",
    "\n",
    "x_cp = x.clone().view(25)\n",
    "x -= 1\n",
    "print(x)\n",
    "print(x_cp)"
   ]
  },
  {
   "cell_type": "code",
   "execution_count": 18,
   "id": "d0fee99f",
   "metadata": {
    "ExecuteTime": {
     "end_time": "2022-09-03T14:37:36.665466Z",
     "start_time": "2022-09-03T14:37:36.651503Z"
    }
   },
   "outputs": [
    {
     "name": "stdout",
     "output_type": "stream",
     "text": [
      "tensor([0.2549])\n",
      "0.2549082934856415\n"
     ]
    }
   ],
   "source": [
    "# item(),将一个标量Tensor转化成一个python number\n",
    "\n",
    "x = torch.randn(1)\n",
    "print(x)\n",
    "print(x.item())"
   ]
  },
  {
   "cell_type": "code",
   "execution_count": 19,
   "id": "2f0543dc",
   "metadata": {
    "ExecuteTime": {
     "end_time": "2022-09-03T14:37:55.933205Z",
     "start_time": "2022-09-03T14:37:55.914256Z"
    }
   },
   "outputs": [
    {
     "name": "stdout",
     "output_type": "stream",
     "text": [
      "tensor([[1, 2]])\n",
      "tensor([[1],\n",
      "        [2],\n",
      "        [3]])\n",
      "tensor([[2, 3],\n",
      "        [3, 4],\n",
      "        [4, 5]])\n"
     ]
    }
   ],
   "source": [
    "# 广播\n",
    "\n",
    "x = torch.arange(1, 3).view(1, 2)\n",
    "print(x)\n",
    "y = torch.arange(1, 4).view(3, 1)\n",
    "print(y)\n",
    "print(x + y)"
   ]
  },
  {
   "cell_type": "code",
   "execution_count": 20,
   "id": "131aec37",
   "metadata": {
    "ExecuteTime": {
     "end_time": "2022-09-03T14:43:18.731426Z",
     "start_time": "2022-09-03T14:43:18.710483Z"
    }
   },
   "outputs": [
    {
     "name": "stdout",
     "output_type": "stream",
     "text": [
      "tensor([1., 1., 1., 1., 1.]) [1. 1. 1. 1. 1.]\n",
      "tensor([2., 2., 2., 2., 2.]) [2. 2. 2. 2. 2.]\n",
      "tensor([3., 3., 3., 3., 3.]) [3. 3. 3. 3. 3.]\n"
     ]
    }
   ],
   "source": [
    "# Tensor和NumPy相互转换\n",
    "\n",
    "### 内存共享\n",
    "a = torch.ones(5)\n",
    "b = a.numpy()\n",
    "print(a, b)\n",
    "\n",
    "a += 1\n",
    "print(a, b)\n",
    "b += 1\n",
    "print(a, b)"
   ]
  },
  {
   "cell_type": "code",
   "execution_count": 21,
   "id": "450f4621",
   "metadata": {
    "ExecuteTime": {
     "end_time": "2022-09-03T14:47:38.723847Z",
     "start_time": "2022-09-03T14:47:38.714871Z"
    }
   },
   "outputs": [
    {
     "name": "stdout",
     "output_type": "stream",
     "text": [
      "tensor([4., 4., 4., 4., 4.]) tensor([3., 3., 3., 3., 3.])\n"
     ]
    },
    {
     "name": "stderr",
     "output_type": "stream",
     "text": [
      "C:\\Users\\86177\\AppData\\Local\\Temp/ipykernel_15864/1787056531.py:3: UserWarning: To copy construct from a tensor, it is recommended to use sourceTensor.clone().detach() or sourceTensor.clone().detach().requires_grad_(True), rather than torch.tensor(sourceTensor).\n",
      "  c = torch.tensor(a)\n"
     ]
    }
   ],
   "source": [
    "# Tensor和NumPy相互转换\n",
    "\n",
    "c = torch.tensor(a)\n",
    "a += 1\n",
    "print(a, c)"
   ]
  },
  {
   "cell_type": "code",
   "execution_count": 22,
   "id": "b4b3b3d7",
   "metadata": {
    "ExecuteTime": {
     "end_time": "2022-09-03T14:48:13.050776Z",
     "start_time": "2022-09-03T14:48:09.467709Z"
    }
   },
   "outputs": [
    {
     "name": "stdout",
     "output_type": "stream",
     "text": [
      "tensor([[2, 3]], device='cuda:0')\n",
      "tensor([[2., 3.]], dtype=torch.float64)\n"
     ]
    }
   ],
   "source": [
    "# GPU\n",
    "\n",
    "# 以下代码只有在PyTorch GPU版本上才会执行\n",
    "if torch.cuda.is_available():\n",
    "    device = torch.device(\"cuda\")          # GPU\n",
    "    y = torch.ones_like(x, device=device)  # 直接创建一个在GPU上的Tensor\n",
    "    x = x.to(device)                       # 等价于 .to(\"cuda\")\n",
    "    z = x + y\n",
    "    print(z)\n",
    "    print(z.to(\"cpu\", torch.double))       # to()还可以同时更改数据类型"
   ]
  },
  {
   "cell_type": "code",
   "execution_count": null,
   "id": "12035eef",
   "metadata": {},
   "outputs": [],
   "source": []
  }
 ],
 "metadata": {
  "kernelspec": {
   "display_name": "Python 3 (ipykernel)",
   "language": "python",
   "name": "python3"
  },
  "language_info": {
   "codemirror_mode": {
    "name": "ipython",
    "version": 3
   },
   "file_extension": ".py",
   "mimetype": "text/x-python",
   "name": "python",
   "nbconvert_exporter": "python",
   "pygments_lexer": "ipython3",
   "version": "3.9.5"
  }
 },
 "nbformat": 4,
 "nbformat_minor": 5
}
