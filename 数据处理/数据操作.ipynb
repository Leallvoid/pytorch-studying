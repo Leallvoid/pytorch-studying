{
 "cells": [
  {
   "cell_type": "code",
   "execution_count": 1,
   "id": "095ae8d8",
   "metadata": {
    "ExecuteTime": {
     "end_time": "2022-09-03T06:50:50.139491Z",
     "start_time": "2022-09-03T06:50:43.908454Z"
    }
   },
   "outputs": [],
   "source": [
    "import torch"
   ]
  },
  {
   "cell_type": "code",
   "execution_count": 2,
   "id": "892e4ec9",
   "metadata": {
    "ExecuteTime": {
     "end_time": "2022-09-03T06:51:10.659362Z",
     "start_time": "2022-09-03T06:51:10.583727Z"
    }
   },
   "outputs": [
    {
     "name": "stdout",
     "output_type": "stream",
     "text": [
      "tensor([[1.0653e-38, 4.1327e-39, 8.9082e-39],\n",
      "        [9.8265e-39, 9.4592e-39, 1.0561e-38],\n",
      "        [1.0653e-38, 1.0469e-38, 9.5510e-39],\n",
      "        [1.0745e-38, 9.6429e-39, 1.0561e-38],\n",
      "        [9.1837e-39, 1.0653e-38, 8.4490e-39]])\n"
     ]
    }
   ],
   "source": [
    "# 创建5x3的未初始化的Tensor\n",
    "\n",
    "x = torch.empty(5,3)\n",
    "print(x)"
   ]
  },
  {
   "cell_type": "code",
   "execution_count": 9,
   "id": "c1c7be54",
   "metadata": {
    "ExecuteTime": {
     "end_time": "2022-09-03T06:56:15.261769Z",
     "start_time": "2022-09-03T06:56:15.242790Z"
    }
   },
   "outputs": [
    {
     "name": "stdout",
     "output_type": "stream",
     "text": [
      "tensor([[0.9400, 0.2931, 0.3468, 0.1608],\n",
      "        [0.8540, 0.3178, 0.0391, 0.8137],\n",
      "        [0.5156, 0.1497, 0.5426, 0.7052],\n",
      "        [0.6406, 0.2043, 0.7514, 0.0137],\n",
      "        [0.2356, 0.2927, 0.2817, 0.6624]])\n"
     ]
    }
   ],
   "source": [
    "# 创建一个5x4的随机初始化Tensor\n",
    "\n",
    "x = torch.rand(5, 4)\n",
    "print(x)"
   ]
  },
  {
   "cell_type": "code",
   "execution_count": 4,
   "id": "562f7b45",
   "metadata": {
    "ExecuteTime": {
     "end_time": "2022-09-03T06:53:29.776814Z",
     "start_time": "2022-09-03T06:53:29.769832Z"
    }
   },
   "outputs": [
    {
     "name": "stdout",
     "output_type": "stream",
     "text": [
      "tensor([[0, 0, 0],\n",
      "        [0, 0, 0],\n",
      "        [0, 0, 0],\n",
      "        [0, 0, 0],\n",
      "        [0, 0, 0]])\n"
     ]
    }
   ],
   "source": [
    "# 创建一个5x3的long型全0的Tensor:\n",
    "\n",
    "x = torch.zeros(5, 3, dtype=torch.long)\n",
    "print(x)"
   ]
  },
  {
   "cell_type": "code",
   "execution_count": 5,
   "id": "01173781",
   "metadata": {
    "ExecuteTime": {
     "end_time": "2022-09-03T06:54:28.178321Z",
     "start_time": "2022-09-03T06:54:28.168348Z"
    }
   },
   "outputs": [
    {
     "name": "stdout",
     "output_type": "stream",
     "text": [
      "tensor([5.5000, 3.0000])\n"
     ]
    }
   ],
   "source": [
    "# 直接根据数据创建\n",
    "\n",
    "x = torch.tensor([5.5, 3])\n",
    "print(x)"
   ]
  },
  {
   "cell_type": "code",
   "execution_count": 10,
   "id": "f0f38d3c",
   "metadata": {
    "ExecuteTime": {
     "end_time": "2022-09-03T06:56:21.852822Z",
     "start_time": "2022-09-03T06:56:21.839856Z"
    }
   },
   "outputs": [
    {
     "name": "stdout",
     "output_type": "stream",
     "text": [
      "tensor([[1., 1., 1., 1.],\n",
      "        [1., 1., 1., 1.],\n",
      "        [1., 1., 1., 1.],\n",
      "        [1., 1., 1., 1.],\n",
      "        [1., 1., 1., 1.],\n",
      "        [1., 1., 1., 1.]], dtype=torch.float64)\n",
      "tensor([[-2.3370,  0.0542,  1.5592,  0.9105],\n",
      "        [ 0.3132,  0.5238,  0.1328,  1.1606],\n",
      "        [ 0.1374,  0.0448,  0.6261, -0.3567],\n",
      "        [ 0.9354,  0.4740,  1.7765,  0.4534],\n",
      "        [ 0.5621,  0.2697, -2.3935,  0.5377],\n",
      "        [ 0.6072,  0.7583,  1.2964, -0.4453]])\n"
     ]
    }
   ],
   "source": [
    "x = x.new_ones(6, 4, dtype=torch.float64)  # 返回的tensor默认具有相同的torch.dtype和torch.device\n",
    "print(x)\n",
    "\n",
    "x = torch.randn_like(x, dtype=torch.float) # 指定新的数据类型\n",
    "print(x) "
   ]
  },
  {
   "cell_type": "code",
   "execution_count": 11,
   "id": "02afb245",
   "metadata": {
    "ExecuteTime": {
     "end_time": "2022-09-03T06:56:43.692287Z",
     "start_time": "2022-09-03T06:56:43.682313Z"
    }
   },
   "outputs": [
    {
     "name": "stdout",
     "output_type": "stream",
     "text": [
      "torch.Size([6, 4])\n",
      "torch.Size([6, 4])\n"
     ]
    }
   ],
   "source": [
    "# 获取Tensor形状\n",
    "\n",
    "print(x.size())\n",
    "print(x.shape)"
   ]
  },
  {
   "cell_type": "code",
   "execution_count": 13,
   "id": "03d141a1",
   "metadata": {
    "ExecuteTime": {
     "end_time": "2022-09-03T06:58:57.323426Z",
     "start_time": "2022-09-03T06:58:57.310461Z"
    }
   },
   "outputs": [
    {
     "name": "stdout",
     "output_type": "stream",
     "text": [
      "tensor([[1., 0., 0., 0., 0.],\n",
      "        [0., 1., 0., 0., 0.],\n",
      "        [0., 0., 1., 0., 0.],\n",
      "        [0., 0., 0., 1., 0.],\n",
      "        [0., 0., 0., 0., 1.]])\n"
     ]
    }
   ],
   "source": [
    "# 对角线置1\n",
    "\n",
    "x = torch.eye(5, 5)\n",
    "print(x)"
   ]
  },
  {
   "cell_type": "code",
   "execution_count": 14,
   "id": "c707af30",
   "metadata": {
    "ExecuteTime": {
     "end_time": "2022-09-03T07:03:02.960116Z",
     "start_time": "2022-09-03T07:03:02.953134Z"
    }
   },
   "outputs": [
    {
     "name": "stdout",
     "output_type": "stream",
     "text": [
      "tensor([[1.5696, 0.8957, 0.6873, 0.6702, 0.3477],\n",
      "        [0.8082, 1.3467, 0.1985, 0.8276, 0.7720],\n",
      "        [0.8027, 0.4615, 1.0266, 0.2591, 0.4702],\n",
      "        [0.0103, 0.2359, 0.7513, 1.5070, 0.0591],\n",
      "        [0.1868, 0.8428, 0.9616, 0.5844, 1.0341]])\n"
     ]
    }
   ],
   "source": [
    "# 加法1\n",
    "\n",
    "y = torch.rand(5, 5)\n",
    "print(x + y)"
   ]
  },
  {
   "cell_type": "code",
   "execution_count": 15,
   "id": "3ca4c898",
   "metadata": {
    "ExecuteTime": {
     "end_time": "2022-09-03T07:04:48.702608Z",
     "start_time": "2022-09-03T07:04:48.691637Z"
    }
   },
   "outputs": [
    {
     "name": "stdout",
     "output_type": "stream",
     "text": [
      "tensor([[1.5696, 0.8957, 0.6873, 0.6702, 0.3477],\n",
      "        [0.8082, 1.3467, 0.1985, 0.8276, 0.7720],\n",
      "        [0.8027, 0.4615, 1.0266, 0.2591, 0.4702],\n",
      "        [0.0103, 0.2359, 0.7513, 1.5070, 0.0591],\n",
      "        [0.1868, 0.8428, 0.9616, 0.5844, 1.0341]])\n"
     ]
    }
   ],
   "source": [
    "# 加法2\n",
    "\n",
    "print(torch.add(x, y))"
   ]
  },
  {
   "cell_type": "code",
   "execution_count": 19,
   "id": "37aff9c4",
   "metadata": {
    "ExecuteTime": {
     "end_time": "2022-09-03T07:06:14.032123Z",
     "start_time": "2022-09-03T07:06:14.007005Z"
    }
   },
   "outputs": [
    {
     "name": "stdout",
     "output_type": "stream",
     "text": [
      "tensor([[1.5696, 0.8957, 0.6873, 0.6702, 0.3477],\n",
      "        [0.8082, 1.3467, 0.1985, 0.8276, 0.7720],\n",
      "        [0.8027, 0.4615, 1.0266, 0.2591, 0.4702],\n",
      "        [0.0103, 0.2359, 0.7513, 1.5070, 0.0591],\n",
      "        [0.1868, 0.8428, 0.9616, 0.5844, 1.0341]])\n"
     ]
    }
   ],
   "source": [
    "# 可指定输出\n",
    "\n",
    "result = torch.empty(5, 5)\n",
    "torch.add(x, y, out=result)\n",
    "print(result)"
   ]
  },
  {
   "cell_type": "code",
   "execution_count": 20,
   "id": "e27d51eb",
   "metadata": {
    "ExecuteTime": {
     "end_time": "2022-09-03T07:07:14.776793Z",
     "start_time": "2022-09-03T07:07:14.757843Z"
    }
   },
   "outputs": [
    {
     "name": "stdout",
     "output_type": "stream",
     "text": [
      "tensor([[1.5696, 0.8957, 0.6873, 0.6702, 0.3477],\n",
      "        [0.8082, 1.3467, 0.1985, 0.8276, 0.7720],\n",
      "        [0.8027, 0.4615, 1.0266, 0.2591, 0.4702],\n",
      "        [0.0103, 0.2359, 0.7513, 1.5070, 0.0591],\n",
      "        [0.1868, 0.8428, 0.9616, 0.5844, 1.0341]])\n"
     ]
    }
   ],
   "source": [
    "# 加法3 inplace PyTorch操作inplace版本都有后缀_, 例如x.copy_(y), x.t_()\n",
    "\n",
    "y.add_(x)\n",
    "print(y)"
   ]
  },
  {
   "cell_type": "code",
   "execution_count": 25,
   "id": "89dba234",
   "metadata": {
    "ExecuteTime": {
     "end_time": "2022-09-03T07:09:54.900627Z",
     "start_time": "2022-09-03T07:09:54.890654Z"
    }
   },
   "outputs": [
    {
     "name": "stdout",
     "output_type": "stream",
     "text": [
      "tensor([4., 5., 4., 4., 4.])\n",
      "tensor([4., 5., 4., 4., 4.])\n"
     ]
    }
   ],
   "source": [
    "# 索引 我们还可以使用类似NumPy的索引操作来访问Tensor的一部分，\n",
    "# 需要注意的是：索引出来的结果与原数据共享内存，\n",
    "# 也即修改一个，另一个会跟着修改。\n",
    "\n",
    "y = x[1, :]\n",
    "y += 1\n",
    "print(y)\n",
    "print(x[1, :]) # 源tensor也被改了"
   ]
  },
  {
   "cell_type": "code",
   "execution_count": 26,
   "id": "902742e5",
   "metadata": {
    "ExecuteTime": {
     "end_time": "2022-09-03T07:10:01.151471Z",
     "start_time": "2022-09-03T07:10:01.145487Z"
    }
   },
   "outputs": [
    {
     "name": "stdout",
     "output_type": "stream",
     "text": [
      "tensor([[2., 1., 1., 1., 1.],\n",
      "        [4., 5., 4., 4., 4.],\n",
      "        [0., 0., 1., 0., 0.],\n",
      "        [0., 0., 0., 1., 0.],\n",
      "        [0., 0., 0., 0., 1.]])\n"
     ]
    }
   ],
   "source": [
    "print(x)"
   ]
  },
  {
   "cell_type": "code",
   "execution_count": 30,
   "id": "50df494e",
   "metadata": {
    "ExecuteTime": {
     "end_time": "2022-09-03T07:10:56.911377Z",
     "start_time": "2022-09-03T07:10:56.905393Z"
    }
   },
   "outputs": [
    {
     "name": "stdout",
     "output_type": "stream",
     "text": [
      "torch.Size([5, 5]) torch.Size([25]) torch.Size([1, 25])\n"
     ]
    }
   ],
   "source": [
    "# 改变形状\n",
    "'''注意view()返回的新Tensor与源Tensor虽然可能有不同的size，\n",
    "但是是共享data的，也即更改其中的一个，另外一个也会跟着改变。\n",
    "(顾名思义，view仅仅是改变了对这个张量的观察角度，内部数据并未改变)'''\n",
    "\n",
    "y = x.view(25)\n",
    "z = x.view(-1, 25)  # -1所指的维度可以根据其他维度的值推出来\n",
    "print(x.size(), y.size(), z.size())"
   ]
  },
  {
   "cell_type": "code",
   "execution_count": 31,
   "id": "22cdd40e",
   "metadata": {
    "ExecuteTime": {
     "end_time": "2022-09-03T07:12:15.971311Z",
     "start_time": "2022-09-03T07:12:15.959343Z"
    }
   },
   "outputs": [
    {
     "name": "stdout",
     "output_type": "stream",
     "text": [
      "tensor([[3., 2., 2., 2., 2.],\n",
      "        [5., 6., 5., 5., 5.],\n",
      "        [1., 1., 2., 1., 1.],\n",
      "        [1., 1., 1., 2., 1.],\n",
      "        [1., 1., 1., 1., 2.]])\n",
      "tensor([3., 2., 2., 2., 2., 5., 6., 5., 5., 5., 1., 1., 2., 1., 1., 1., 1., 1.,\n",
      "        2., 1., 1., 1., 1., 1., 2.])\n"
     ]
    }
   ],
   "source": [
    "x += 1\n",
    "print(x)\n",
    "print(y) # 也加了1"
   ]
  },
  {
   "cell_type": "code",
   "execution_count": 33,
   "id": "855f0f5f",
   "metadata": {
    "ExecuteTime": {
     "end_time": "2022-09-03T07:14:25.855605Z",
     "start_time": "2022-09-03T07:14:25.846629Z"
    }
   },
   "outputs": [
    {
     "name": "stdout",
     "output_type": "stream",
     "text": [
      "tensor([[2., 1., 1., 1., 1.],\n",
      "        [4., 5., 4., 4., 4.],\n",
      "        [0., 0., 1., 0., 0.],\n",
      "        [0., 0., 0., 1., 0.],\n",
      "        [0., 0., 0., 0., 1.]])\n",
      "tensor([3., 2., 2., 2., 2., 5., 6., 5., 5., 5., 1., 1., 2., 1., 1., 1., 1., 1.,\n",
      "        2., 1., 1., 1., 1., 1., 2.])\n"
     ]
    }
   ],
   "source": [
    "# 所以如果我们想返回一个真正新的副本（即不共享data内存）该怎么办呢？\n",
    "# Pytorch还提供了一个reshape()可以改变形状，但是此函数并不能保证返回的是其拷贝，所以不推荐使用。\n",
    "# 推荐先用clone创造一个副本然后再使用view\n",
    "\n",
    "x_cp = x.clone().view(25)\n",
    "x -= 1\n",
    "print(x)\n",
    "print(x_cp)"
   ]
  },
  {
   "cell_type": "code",
   "execution_count": 34,
   "id": "d0fee99f",
   "metadata": {
    "ExecuteTime": {
     "end_time": "2022-09-03T07:15:12.938504Z",
     "start_time": "2022-09-03T07:15:12.928531Z"
    }
   },
   "outputs": [
    {
     "name": "stdout",
     "output_type": "stream",
     "text": [
      "tensor([-0.0749])\n",
      "-0.07486724853515625\n"
     ]
    }
   ],
   "source": [
    "# item(),将一个标量Tensor转化成一个python number\n",
    "\n",
    "x = torch.randn(1)\n",
    "print(x)\n",
    "print(x.item())"
   ]
  },
  {
   "cell_type": "code",
   "execution_count": null,
   "id": "2f0543dc",
   "metadata": {},
   "outputs": [],
   "source": []
  }
 ],
 "metadata": {
  "kernelspec": {
   "display_name": "Python 3 (ipykernel)",
   "language": "python",
   "name": "python3"
  },
  "language_info": {
   "codemirror_mode": {
    "name": "ipython",
    "version": 3
   },
   "file_extension": ".py",
   "mimetype": "text/x-python",
   "name": "python",
   "nbconvert_exporter": "python",
   "pygments_lexer": "ipython3",
   "version": "3.9.5"
  }
 },
 "nbformat": 4,
 "nbformat_minor": 5
}
