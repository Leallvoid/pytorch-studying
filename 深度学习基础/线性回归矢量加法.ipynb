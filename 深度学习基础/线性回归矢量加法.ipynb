{
 "cells": [
  {
   "cell_type": "code",
   "execution_count": 1,
   "id": "41514522",
   "metadata": {
    "ExecuteTime": {
     "end_time": "2022-09-06T15:27:32.434439Z",
     "start_time": "2022-09-06T15:27:31.619989Z"
    }
   },
   "outputs": [],
   "source": [
    "import torch"
   ]
  },
  {
   "cell_type": "code",
   "execution_count": 2,
   "id": "ac0d9ea1",
   "metadata": {
    "ExecuteTime": {
     "end_time": "2022-09-06T15:28:00.698376Z",
     "start_time": "2022-09-06T15:28:00.671446Z"
    }
   },
   "outputs": [
    {
     "name": "stdout",
     "output_type": "stream",
     "text": [
      "0.012965202331542969\n"
     ]
    }
   ],
   "source": [
    "# 矢量计算表达式\n",
    "\n",
    "### 将这两个向量按元素逐一做标量加法\n",
    "from time import time\n",
    "\n",
    "a = torch.ones(1000)\n",
    "b = torch.ones(1000)\n",
    "start = time()\n",
    "c = torch.zeros(1000)\n",
    "for i in range(1000):\n",
    "    c[i] = a[i] + b[i]\n",
    "print(time() - start)\n"
   ]
  },
  {
   "cell_type": "code",
   "execution_count": 3,
   "id": "de08cacc",
   "metadata": {
    "ExecuteTime": {
     "end_time": "2022-09-06T15:28:16.424313Z",
     "start_time": "2022-09-06T15:28:16.411348Z"
    }
   },
   "outputs": [
    {
     "name": "stdout",
     "output_type": "stream",
     "text": [
      "0.0\n"
     ]
    }
   ],
   "source": [
    "### 将这两个向量直接做矢量加法\n",
    "\n",
    "start = time()\n",
    "d = a + b\n",
    "print(time() - start)\n",
    "\n",
    "### 结果表明：矢量加法的运算速度更快"
   ]
  },
  {
   "cell_type": "code",
   "execution_count": 4,
   "id": "44ea2700",
   "metadata": {
    "ExecuteTime": {
     "end_time": "2022-09-06T15:30:35.604169Z",
     "start_time": "2022-09-06T15:30:35.584222Z"
    }
   },
   "outputs": [
    {
     "name": "stdout",
     "output_type": "stream",
     "text": [
      "tensor([11., 11., 11.])\n"
     ]
    }
   ],
   "source": [
    "# 对3个房屋样本预测价格的矢量计算表达式为yˆ=Xw+b, 其中的加法运算使用了广播机制\n",
    "\n",
    "a = torch.ones(3)\n",
    "b = 10\n",
    "print(a + b)"
   ]
  },
  {
   "cell_type": "code",
   "execution_count": null,
   "id": "7c879ad7",
   "metadata": {},
   "outputs": [],
   "source": []
  }
 ],
 "metadata": {
  "kernelspec": {
   "display_name": "Python 3 (ipykernel)",
   "language": "python",
   "name": "python3"
  },
  "language_info": {
   "codemirror_mode": {
    "name": "ipython",
    "version": 3
   },
   "file_extension": ".py",
   "mimetype": "text/x-python",
   "name": "python",
   "nbconvert_exporter": "python",
   "pygments_lexer": "ipython3",
   "version": "3.9.5"
  }
 },
 "nbformat": 4,
 "nbformat_minor": 5
}
